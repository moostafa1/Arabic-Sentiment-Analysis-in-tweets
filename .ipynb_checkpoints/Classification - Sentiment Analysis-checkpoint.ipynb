{
 "cells": [
  {
   "cell_type": "code",
   "execution_count": 1,
   "id": "8981785f",
   "metadata": {},
   "outputs": [],
   "source": [
    "import numpy as np\n",
    "import pandas as pd\n",
    "import matplotlib.pyplot as plt"
   ]
  },
  {
   "cell_type": "code",
   "execution_count": 2,
   "id": "857f49b9",
   "metadata": {},
   "outputs": [],
   "source": [
    "df = pd.read_csv(\"comments_art-et-culture.csv\")"
   ]
  },
  {
   "cell_type": "code",
   "execution_count": 3,
   "id": "7accecef",
   "metadata": {},
   "outputs": [
    {
     "data": {
      "text/html": [
       "<div>\n",
       "<style scoped>\n",
       "    .dataframe tbody tr th:only-of-type {\n",
       "        vertical-align: middle;\n",
       "    }\n",
       "\n",
       "    .dataframe tbody tr th {\n",
       "        vertical-align: top;\n",
       "    }\n",
       "\n",
       "    .dataframe thead th {\n",
       "        text-align: right;\n",
       "    }\n",
       "</style>\n",
       "<table border=\"1\" class=\"dataframe\">\n",
       "  <thead>\n",
       "    <tr style=\"text-align: right;\">\n",
       "      <th></th>\n",
       "      <th>Unnamed: 0</th>\n",
       "      <th>postId</th>\n",
       "      <th>comment</th>\n",
       "      <th>score</th>\n",
       "      <th>topic</th>\n",
       "    </tr>\n",
       "  </thead>\n",
       "  <tbody>\n",
       "    <tr>\n",
       "      <th>0</th>\n",
       "      <td>0</td>\n",
       "      <td>f06aa998054e11eba66e646e69d991ea</td>\n",
       "      <td>علينا الاهتمام ببيت الابحاث العلمية و المختبرا...</td>\n",
       "      <td>-9</td>\n",
       "      <td>art-et-culture</td>\n",
       "    </tr>\n",
       "    <tr>\n",
       "      <th>1</th>\n",
       "      <td>1</td>\n",
       "      <td>f06aa998054e11eba66e646e69d991ea</td>\n",
       "      <td>بيت الشعر في المغرب يحظى بالتقدير داخل وخارج أ...</td>\n",
       "      <td>5</td>\n",
       "      <td>art-et-culture</td>\n",
       "    </tr>\n",
       "    <tr>\n",
       "      <th>2</th>\n",
       "      <td>2</td>\n",
       "      <td>f06aa998054e11eba66e646e69d991ea</td>\n",
       "      <td>مبادرات مهمة يقوم بها بيت الشعر لصون الذاكرة ا...</td>\n",
       "      <td>4</td>\n",
       "      <td>art-et-culture</td>\n",
       "    </tr>\n",
       "    <tr>\n",
       "      <th>3</th>\n",
       "      <td>3</td>\n",
       "      <td>f06aa998054e11eba66e646e69d991ea</td>\n",
       "      <td>شكرا لمكتب بيت الشعر في المغرب وعلى رأسه الشاع...</td>\n",
       "      <td>5</td>\n",
       "      <td>art-et-culture</td>\n",
       "    </tr>\n",
       "    <tr>\n",
       "      <th>4</th>\n",
       "      <td>4</td>\n",
       "      <td>f1cf1b9c054e11ebb718646e69d991ea</td>\n",
       "      <td>كل من عليها فان ويبقى وجه ربك ذو الجلال والإكر...</td>\n",
       "      <td>13</td>\n",
       "      <td>art-et-culture</td>\n",
       "    </tr>\n",
       "  </tbody>\n",
       "</table>\n",
       "</div>"
      ],
      "text/plain": [
       "   Unnamed: 0                            postId  \\\n",
       "0           0  f06aa998054e11eba66e646e69d991ea   \n",
       "1           1  f06aa998054e11eba66e646e69d991ea   \n",
       "2           2  f06aa998054e11eba66e646e69d991ea   \n",
       "3           3  f06aa998054e11eba66e646e69d991ea   \n",
       "4           4  f1cf1b9c054e11ebb718646e69d991ea   \n",
       "\n",
       "                                             comment  score           topic  \n",
       "0  علينا الاهتمام ببيت الابحاث العلمية و المختبرا...     -9  art-et-culture  \n",
       "1  بيت الشعر في المغرب يحظى بالتقدير داخل وخارج أ...      5  art-et-culture  \n",
       "2  مبادرات مهمة يقوم بها بيت الشعر لصون الذاكرة ا...      4  art-et-culture  \n",
       "3  شكرا لمكتب بيت الشعر في المغرب وعلى رأسه الشاع...      5  art-et-culture  \n",
       "4  كل من عليها فان ويبقى وجه ربك ذو الجلال والإكر...     13  art-et-culture  "
      ]
     },
     "execution_count": 3,
     "metadata": {},
     "output_type": "execute_result"
    }
   ],
   "source": [
    "df.head()"
   ]
  },
  {
   "cell_type": "code",
   "execution_count": 4,
   "id": "e4b0e40a",
   "metadata": {},
   "outputs": [
    {
     "data": {
      "text/plain": [
       "Unnamed: 0     int64\n",
       "postId        object\n",
       "comment       object\n",
       "score          int64\n",
       "topic         object\n",
       "dtype: object"
      ]
     },
     "execution_count": 4,
     "metadata": {},
     "output_type": "execute_result"
    }
   ],
   "source": [
    "df.dtypes"
   ]
  },
  {
   "cell_type": "code",
   "execution_count": 5,
   "id": "d5d13921",
   "metadata": {},
   "outputs": [
    {
     "data": {
      "text/plain": [
       "(10568, 5)"
      ]
     },
     "execution_count": 5,
     "metadata": {},
     "output_type": "execute_result"
    }
   ],
   "source": [
    "df.shape"
   ]
  },
  {
   "cell_type": "code",
   "execution_count": 6,
   "id": "76fd8d16",
   "metadata": {},
   "outputs": [
    {
     "name": "stdout",
     "output_type": "stream",
     "text": [
      "<class 'pandas.core.frame.DataFrame'>\n",
      "RangeIndex: 10568 entries, 0 to 10567\n",
      "Data columns (total 5 columns):\n",
      " #   Column      Non-Null Count  Dtype \n",
      "---  ------      --------------  ----- \n",
      " 0   Unnamed: 0  10568 non-null  int64 \n",
      " 1   postId      10568 non-null  object\n",
      " 2   comment     10568 non-null  object\n",
      " 3   score       10568 non-null  int64 \n",
      " 4   topic       10568 non-null  object\n",
      "dtypes: int64(2), object(3)\n",
      "memory usage: 412.9+ KB\n"
     ]
    }
   ],
   "source": [
    "df.info()"
   ]
  },
  {
   "cell_type": "code",
   "execution_count": 7,
   "id": "4efad26c",
   "metadata": {},
   "outputs": [
    {
     "data": {
      "text/plain": [
       "Unnamed: 0    0\n",
       "postId        0\n",
       "comment       0\n",
       "score         0\n",
       "topic         0\n",
       "dtype: int64"
      ]
     },
     "execution_count": 7,
     "metadata": {},
     "output_type": "execute_result"
    }
   ],
   "source": [
    "df.isnull().sum()"
   ]
  },
  {
   "cell_type": "code",
   "execution_count": 8,
   "id": "04f86b06",
   "metadata": {},
   "outputs": [
    {
     "name": "stdout",
     "output_type": "stream",
     "text": [
      "Unnamed: 0 has 10568 unique values\n",
      "postId has 854 unique values\n",
      "comment has 10516 unique values\n",
      "score has 458 unique values\n",
      "topic has 1 unique values\n"
     ]
    }
   ],
   "source": [
    "for col in df.columns:\n",
    "    print(f\"{col} has {len(df[col].unique())} unique values\")"
   ]
  },
  {
   "cell_type": "code",
   "execution_count": 9,
   "id": "5f73b0ad",
   "metadata": {},
   "outputs": [
    {
     "data": {
      "text/plain": [
       "{1: 748,\n",
       " 2: 654,\n",
       " 0: 625,\n",
       " 3: 597,\n",
       " 4: 524,\n",
       " 5: 416,\n",
       " 6: 411,\n",
       " 7: 333,\n",
       " 8: 305,\n",
       " 9: 284,\n",
       " 10: 234,\n",
       " -1: 218,\n",
       " 11: 217,\n",
       " 12: 190,\n",
       " 14: 173,\n",
       " 13: 167,\n",
       " -2: 153,\n",
       " 16: 140,\n",
       " 15: 138,\n",
       " 17: 125,\n",
       " -3: 121,\n",
       " 18: 111,\n",
       " 19: 108,\n",
       " 21: 101,\n",
       " -4: 90,\n",
       " 24: 88,\n",
       " -5: 87,\n",
       " 20: 85,\n",
       " 23: 81,\n",
       " 22: 75,\n",
       " 28: 71,\n",
       " 25: 71,\n",
       " 27: 66,\n",
       " -6: 66,\n",
       " 26: 62,\n",
       " 31: 55,\n",
       " 30: 55,\n",
       " -8: 55,\n",
       " 32: 53,\n",
       " -7: 51,\n",
       " 34: 47,\n",
       " 36: 47,\n",
       " -9: 44,\n",
       " 42: 43,\n",
       " 37: 42,\n",
       " 29: 41,\n",
       " 33: 40,\n",
       " 38: 39,\n",
       " 35: 38,\n",
       " 39: 37,\n",
       " -10: 36,\n",
       " 41: 36,\n",
       " -12: 29,\n",
       " 40: 27,\n",
       " 49: 27,\n",
       " -11: 27,\n",
       " 46: 27,\n",
       " 55: 26,\n",
       " -15: 26,\n",
       " -13: 25,\n",
       " -19: 25,\n",
       " 51: 24,\n",
       " 44: 24,\n",
       " -14: 24,\n",
       " -17: 23,\n",
       " 43: 23,\n",
       " 45: 23,\n",
       " 54: 22,\n",
       " 47: 22,\n",
       " -21: 22,\n",
       " 50: 21,\n",
       " 48: 21,\n",
       " 72: 20,\n",
       " 58: 20,\n",
       " 64: 19,\n",
       " 74: 19,\n",
       " -23: 19,\n",
       " -22: 19,\n",
       " -18: 18,\n",
       " -26: 18,\n",
       " 56: 18,\n",
       " 67: 18,\n",
       " 53: 17,\n",
       " 88: 17,\n",
       " -20: 17,\n",
       " 70: 17,\n",
       " 57: 16,\n",
       " 61: 15,\n",
       " 52: 15,\n",
       " -25: 14,\n",
       " 69: 14,\n",
       " 59: 14,\n",
       " 68: 13,\n",
       " 80: 13,\n",
       " 82: 13,\n",
       " 65: 12,\n",
       " 84: 12,\n",
       " 79: 12,\n",
       " -24: 12,\n",
       " 77: 12,\n",
       " 78: 11,\n",
       " -16: 11,\n",
       " 62: 11,\n",
       " 63: 11,\n",
       " 60: 10,\n",
       " -34: 10,\n",
       " 97: 10,\n",
       " 66: 10,\n",
       " 76: 9,\n",
       " 99: 9,\n",
       " 75: 9,\n",
       " 120: 9,\n",
       " 87: 9,\n",
       " -57: 8,\n",
       " 83: 8,\n",
       " 95: 8,\n",
       " 116: 8,\n",
       " 92: 8,\n",
       " 112: 8,\n",
       " -28: 8,\n",
       " 94: 8,\n",
       " -29: 7,\n",
       " 96: 7,\n",
       " 128: 7,\n",
       " -37: 7,\n",
       " 104: 7,\n",
       " -27: 7,\n",
       " -38: 7,\n",
       " 110: 7,\n",
       " -58: 6,\n",
       " 139: 6,\n",
       " 86: 6,\n",
       " 101: 6,\n",
       " -40: 6,\n",
       " -30: 6,\n",
       " 100: 6,\n",
       " 149: 6,\n",
       " -35: 6,\n",
       " 152: 6,\n",
       " 85: 6,\n",
       " 81: 6,\n",
       " -47: 6,\n",
       " -31: 6,\n",
       " 106: 6,\n",
       " 109: 6,\n",
       " 71: 6,\n",
       " 127: 5,\n",
       " 134: 5,\n",
       " 91: 5,\n",
       " 105: 5,\n",
       " 89: 5,\n",
       " 107: 5,\n",
       " -60: 5,\n",
       " -33: 5,\n",
       " -72: 5,\n",
       " 142: 5,\n",
       " -50: 5,\n",
       " 159: 5,\n",
       " 117: 5,\n",
       " 73: 5,\n",
       " 161: 5,\n",
       " 122: 4,\n",
       " 146: 4,\n",
       " -48: 4,\n",
       " -32: 4,\n",
       " 111: 4,\n",
       " 158: 4,\n",
       " 98: 4,\n",
       " 102: 4,\n",
       " -67: 4,\n",
       " 115: 4,\n",
       " -39: 4,\n",
       " 126: 4,\n",
       " -49: 4,\n",
       " 151: 4,\n",
       " -63: 4,\n",
       " -59: 4,\n",
       " 130: 4,\n",
       " 136: 4,\n",
       " -36: 4,\n",
       " 215: 4,\n",
       " 119: 4,\n",
       " -62: 4,\n",
       " 129: 4,\n",
       " 163: 4,\n",
       " -51: 3,\n",
       " 137: 3,\n",
       " 218: 3,\n",
       " -71: 3,\n",
       " 124: 3,\n",
       " -68: 3,\n",
       " 135: 3,\n",
       " 103: 3,\n",
       " 183: 3,\n",
       " -91: 3,\n",
       " 153: 3,\n",
       " 118: 3,\n",
       " 93: 3,\n",
       " -56: 3,\n",
       " -115: 3,\n",
       " 90: 3,\n",
       " -65: 3,\n",
       " 144: 3,\n",
       " -55: 3,\n",
       " -53: 3,\n",
       " 123: 3,\n",
       " 145: 3,\n",
       " -44: 3,\n",
       " 275: 3,\n",
       " 157: 3,\n",
       " 214: 3,\n",
       " 133: 3,\n",
       " -126: 3,\n",
       " -129: 3,\n",
       " -96: 3,\n",
       " 174: 3,\n",
       " 114: 3,\n",
       " 186: 3,\n",
       " -79: 3,\n",
       " -46: 3,\n",
       " 171: 3,\n",
       " 191: 3,\n",
       " -101: 3,\n",
       " 267: 3,\n",
       " -89: 3,\n",
       " -42: 3,\n",
       " 138: 3,\n",
       " 131: 3,\n",
       " 121: 3,\n",
       " 165: 2,\n",
       " -212: 2,\n",
       " -94: 2,\n",
       " -153: 2,\n",
       " 559: 2,\n",
       " -119: 2,\n",
       " 204: 2,\n",
       " 194: 2,\n",
       " 125: 2,\n",
       " -69: 2,\n",
       " -113: 2,\n",
       " 176: 2,\n",
       " -74: 2,\n",
       " 228: 2,\n",
       " 244: 2,\n",
       " 177: 2,\n",
       " 166: 2,\n",
       " 304: 2,\n",
       " -133: 2,\n",
       " -240: 2,\n",
       " 247: 2,\n",
       " 206: 2,\n",
       " -139: 2,\n",
       " 355: 2,\n",
       " -78: 2,\n",
       " 211: 2,\n",
       " 221: 2,\n",
       " 349: 2,\n",
       " 147: 2,\n",
       " -145: 2,\n",
       " 150: 2,\n",
       " 160: 2,\n",
       " 232: 2,\n",
       " -43: 2,\n",
       " 172: 2,\n",
       " -95: 2,\n",
       " -131: 2,\n",
       " -75: 2,\n",
       " 340: 2,\n",
       " -88: 2,\n",
       " 190: 2,\n",
       " -150: 2,\n",
       " -93: 2,\n",
       " 148: 2,\n",
       " 231: 2,\n",
       " 327: 2,\n",
       " 213: 2,\n",
       " 356: 2,\n",
       " 155: 2,\n",
       " 243: 2,\n",
       " 140: 2,\n",
       " -64: 2,\n",
       " -135: 2,\n",
       " 196: 2,\n",
       " -52: 2,\n",
       " 170: 2,\n",
       " 295: 2,\n",
       " 219: 2,\n",
       " 179: 2,\n",
       " 312: 2,\n",
       " 310: 1,\n",
       " -82: 1,\n",
       " -61: 1,\n",
       " 156: 1,\n",
       " 294: 1,\n",
       " -87: 1,\n",
       " 303: 1,\n",
       " 315: 1,\n",
       " -213: 1,\n",
       " -192: 1,\n",
       " -128: 1,\n",
       " -231: 1,\n",
       " 368: 1,\n",
       " -325: 1,\n",
       " 346: 1,\n",
       " -308: 1,\n",
       " -779: 1,\n",
       " -122: 1,\n",
       " 381: 1,\n",
       " 287: 1,\n",
       " 198: 1,\n",
       " 339: 1,\n",
       " -291: 1,\n",
       " 398: 1,\n",
       " 520: 1,\n",
       " -132: 1,\n",
       " 1084: 1,\n",
       " -300: 1,\n",
       " -41: 1,\n",
       " -54: 1,\n",
       " 233: 1,\n",
       " 279: 1,\n",
       " -99: 1,\n",
       " 185: 1,\n",
       " -134: 1,\n",
       " 372: 1,\n",
       " 590: 1,\n",
       " -537: 1,\n",
       " 585: 1,\n",
       " -263: 1,\n",
       " -287: 1,\n",
       " -148: 1,\n",
       " 431: 1,\n",
       " -315: 1,\n",
       " 235: 1,\n",
       " 230: 1,\n",
       " 401: 1,\n",
       " -430: 1,\n",
       " 258: 1,\n",
       " 370: 1,\n",
       " -414: 1,\n",
       " -123: 1,\n",
       " -110: 1,\n",
       " 644: 1,\n",
       " 555: 1,\n",
       " 458: 1,\n",
       " 445: 1,\n",
       " 403: 1,\n",
       " 264: 1,\n",
       " -81: 1,\n",
       " -83: 1,\n",
       " -73: 1,\n",
       " 251: 1,\n",
       " 283: 1,\n",
       " -105: 1,\n",
       " -469: 1,\n",
       " 732: 1,\n",
       " 438: 1,\n",
       " -77: 1,\n",
       " -114: 1,\n",
       " -116: 1,\n",
       " 383: 1,\n",
       " 241: 1,\n",
       " 274: 1,\n",
       " -98: 1,\n",
       " 270: 1,\n",
       " 282: 1,\n",
       " 224: 1,\n",
       " -104: 1,\n",
       " 250: 1,\n",
       " 180: 1,\n",
       " 113: 1,\n",
       " -158: 1,\n",
       " 108: 1,\n",
       " 285: 1,\n",
       " 255: 1,\n",
       " 182: 1,\n",
       " -239: 1,\n",
       " -210: 1,\n",
       " 301: 1,\n",
       " 334: 1,\n",
       " 953: 1,\n",
       " 499: 1,\n",
       " 360: 1,\n",
       " 429: 1,\n",
       " 222: 1,\n",
       " 220: 1,\n",
       " 246: 1,\n",
       " 226: 1,\n",
       " 143: 1,\n",
       " 242: 1,\n",
       " -587: 1,\n",
       " 366: 1,\n",
       " 298: 1,\n",
       " 512: 1,\n",
       " 238: 1,\n",
       " 343: 1,\n",
       " 132: 1,\n",
       " 209: 1,\n",
       " 321: 1,\n",
       " 208: 1,\n",
       " -237: 1,\n",
       " 154: 1,\n",
       " 408: 1,\n",
       " -316: 1,\n",
       " 164: 1,\n",
       " 141: 1,\n",
       " -92: 1,\n",
       " 440: 1,\n",
       " -141: 1,\n",
       " -45: 1,\n",
       " 369: 1,\n",
       " -130: 1,\n",
       " 460: 1,\n",
       " 350: 1,\n",
       " 229: 1,\n",
       " 169: 1,\n",
       " -204: 1,\n",
       " -182: 1,\n",
       " -97: 1,\n",
       " 168: 1,\n",
       " -66: 1,\n",
       " 162: 1,\n",
       " 280: 1,\n",
       " -149: 1,\n",
       " -76: 1,\n",
       " 1240: 1,\n",
       " 1106: 1,\n",
       " 743: 1,\n",
       " 514: 1,\n",
       " 750: 1,\n",
       " 561: 1,\n",
       " 457: 1,\n",
       " -521: 1,\n",
       " 441: 1,\n",
       " 482: 1,\n",
       " 620: 1,\n",
       " 589: 1,\n",
       " -80: 1,\n",
       " -220: 1,\n",
       " 483: 1,\n",
       " 203: 1,\n",
       " 178: 1,\n",
       " -109: 1,\n",
       " 188: 1,\n",
       " 868: 1,\n",
       " 627: 1,\n",
       " 239: 1,\n",
       " 201: 1,\n",
       " 326: 1,\n",
       " 187: 1,\n",
       " -178: 1,\n",
       " 353: 1,\n",
       " -249: 1,\n",
       " -90: 1,\n",
       " 248: 1,\n",
       " 317: 1,\n",
       " 167: 1,\n",
       " -86: 1}"
      ]
     },
     "execution_count": 9,
     "metadata": {},
     "output_type": "execute_result"
    }
   ],
   "source": [
    "dict(df.score.value_counts())"
   ]
  },
  {
   "cell_type": "code",
   "execution_count": 10,
   "id": "16deba1d",
   "metadata": {},
   "outputs": [
    {
     "data": {
      "text/plain": [
       "0"
      ]
     },
     "execution_count": 10,
     "metadata": {},
     "output_type": "execute_result"
    }
   ],
   "source": [
    "df.duplicated().sum()"
   ]
  },
  {
   "cell_type": "code",
   "execution_count": 11,
   "id": "4d0c4bbd",
   "metadata": {},
   "outputs": [],
   "source": [
    "df.loc[df[\"score\"] > 0, \"score\"] = 1"
   ]
  },
  {
   "cell_type": "code",
   "execution_count": 12,
   "id": "68471799",
   "metadata": {},
   "outputs": [],
   "source": [
    "df.loc[df[\"score\"] < 0, \"score\"] = -1"
   ]
  },
  {
   "cell_type": "code",
   "execution_count": 13,
   "id": "a82b535f",
   "metadata": {},
   "outputs": [
    {
     "data": {
      "text/html": [
       "<div>\n",
       "<style scoped>\n",
       "    .dataframe tbody tr th:only-of-type {\n",
       "        vertical-align: middle;\n",
       "    }\n",
       "\n",
       "    .dataframe tbody tr th {\n",
       "        vertical-align: top;\n",
       "    }\n",
       "\n",
       "    .dataframe thead th {\n",
       "        text-align: right;\n",
       "    }\n",
       "</style>\n",
       "<table border=\"1\" class=\"dataframe\">\n",
       "  <thead>\n",
       "    <tr style=\"text-align: right;\">\n",
       "      <th></th>\n",
       "      <th>Unnamed: 0</th>\n",
       "      <th>postId</th>\n",
       "      <th>comment</th>\n",
       "      <th>score</th>\n",
       "      <th>topic</th>\n",
       "    </tr>\n",
       "  </thead>\n",
       "  <tbody>\n",
       "    <tr>\n",
       "      <th>0</th>\n",
       "      <td>0</td>\n",
       "      <td>f06aa998054e11eba66e646e69d991ea</td>\n",
       "      <td>علينا الاهتمام ببيت الابحاث العلمية و المختبرا...</td>\n",
       "      <td>-1</td>\n",
       "      <td>art-et-culture</td>\n",
       "    </tr>\n",
       "    <tr>\n",
       "      <th>1</th>\n",
       "      <td>1</td>\n",
       "      <td>f06aa998054e11eba66e646e69d991ea</td>\n",
       "      <td>بيت الشعر في المغرب يحظى بالتقدير داخل وخارج أ...</td>\n",
       "      <td>1</td>\n",
       "      <td>art-et-culture</td>\n",
       "    </tr>\n",
       "    <tr>\n",
       "      <th>2</th>\n",
       "      <td>2</td>\n",
       "      <td>f06aa998054e11eba66e646e69d991ea</td>\n",
       "      <td>مبادرات مهمة يقوم بها بيت الشعر لصون الذاكرة ا...</td>\n",
       "      <td>1</td>\n",
       "      <td>art-et-culture</td>\n",
       "    </tr>\n",
       "    <tr>\n",
       "      <th>3</th>\n",
       "      <td>3</td>\n",
       "      <td>f06aa998054e11eba66e646e69d991ea</td>\n",
       "      <td>شكرا لمكتب بيت الشعر في المغرب وعلى رأسه الشاع...</td>\n",
       "      <td>1</td>\n",
       "      <td>art-et-culture</td>\n",
       "    </tr>\n",
       "    <tr>\n",
       "      <th>4</th>\n",
       "      <td>4</td>\n",
       "      <td>f1cf1b9c054e11ebb718646e69d991ea</td>\n",
       "      <td>كل من عليها فان ويبقى وجه ربك ذو الجلال والإكر...</td>\n",
       "      <td>1</td>\n",
       "      <td>art-et-culture</td>\n",
       "    </tr>\n",
       "  </tbody>\n",
       "</table>\n",
       "</div>"
      ],
      "text/plain": [
       "   Unnamed: 0                            postId  \\\n",
       "0           0  f06aa998054e11eba66e646e69d991ea   \n",
       "1           1  f06aa998054e11eba66e646e69d991ea   \n",
       "2           2  f06aa998054e11eba66e646e69d991ea   \n",
       "3           3  f06aa998054e11eba66e646e69d991ea   \n",
       "4           4  f1cf1b9c054e11ebb718646e69d991ea   \n",
       "\n",
       "                                             comment  score           topic  \n",
       "0  علينا الاهتمام ببيت الابحاث العلمية و المختبرا...     -1  art-et-culture  \n",
       "1  بيت الشعر في المغرب يحظى بالتقدير داخل وخارج أ...      1  art-et-culture  \n",
       "2  مبادرات مهمة يقوم بها بيت الشعر لصون الذاكرة ا...      1  art-et-culture  \n",
       "3  شكرا لمكتب بيت الشعر في المغرب وعلى رأسه الشاع...      1  art-et-culture  \n",
       "4  كل من عليها فان ويبقى وجه ربك ذو الجلال والإكر...      1  art-et-culture  "
      ]
     },
     "execution_count": 13,
     "metadata": {},
     "output_type": "execute_result"
    }
   ],
   "source": [
    "df.head()"
   ]
  },
  {
   "cell_type": "code",
   "execution_count": 14,
   "id": "c7cc8697",
   "metadata": {},
   "outputs": [
    {
     "data": {
      "text/plain": [
       "{1: 8388, -1: 1555, 0: 625}"
      ]
     },
     "execution_count": 14,
     "metadata": {},
     "output_type": "execute_result"
    }
   ],
   "source": [
    "dict(df.score.value_counts())"
   ]
  },
  {
   "cell_type": "code",
   "execution_count": 15,
   "id": "5feaf5ba",
   "metadata": {},
   "outputs": [],
   "source": [
    "def bar_plot(input_dict):\n",
    "    # plot variance accounted for by each principal component.\n",
    "    fig, ax = plt.subplots(figsize = (14,8))\n",
    "\n",
    "    df = pd.DataFrame(input_dict, index=[0])\n",
    "\n",
    "    # Plot the feature weights as a function of the components\n",
    "    df.plot(ax = ax, kind = 'bar')\n",
    "    ax.set_ylabel(\"Tweet Number\")\n",
    "    ax.set_xlabel(\"Score\")"
   ]
  },
  {
   "cell_type": "code",
   "execution_count": 16,
   "id": "e4210f6f",
   "metadata": {
    "scrolled": false
   },
   "outputs": [
    {
     "data": {
      "image/png": "[encoded data removed]",
      "text/plain": [
       "<Figure size 1400x800 with 1 Axes>"
      ]
     },
     "metadata": {},
     "output_type": "display_data"
    }
   ],
   "source": [
    "bar_plot(dict(df.score.value_counts()))"
   ]
  },
  {
   "cell_type": "code",
   "execution_count": 17,
   "id": "8cce1ab9",
   "metadata": {},
   "outputs": [],
   "source": [
    "df_well_dist = df[[\"comment\", \"score\"]]"
   ]
  },
  {
   "cell_type": "code",
   "execution_count": 18,
   "id": "cc6b4112",
   "metadata": {},
   "outputs": [
    {
     "data": {
      "text/html": [
       "<div>\n",
       "<style scoped>\n",
       "    .dataframe tbody tr th:only-of-type {\n",
       "        vertical-align: middle;\n",
       "    }\n",
       "\n",
       "    .dataframe tbody tr th {\n",
       "        vertical-align: top;\n",
       "    }\n",
       "\n",
       "    .dataframe thead th {\n",
       "        text-align: right;\n",
       "    }\n",
       "</style>\n",
       "<table border=\"1\" class=\"dataframe\">\n",
       "  <thead>\n",
       "    <tr style=\"text-align: right;\">\n",
       "      <th></th>\n",
       "      <th>comment</th>\n",
       "      <th>score</th>\n",
       "    </tr>\n",
       "  </thead>\n",
       "  <tbody>\n",
       "    <tr>\n",
       "      <th>0</th>\n",
       "      <td>علينا الاهتمام ببيت الابحاث العلمية و المختبرا...</td>\n",
       "      <td>-1</td>\n",
       "    </tr>\n",
       "    <tr>\n",
       "      <th>1</th>\n",
       "      <td>بيت الشعر في المغرب يحظى بالتقدير داخل وخارج أ...</td>\n",
       "      <td>1</td>\n",
       "    </tr>\n",
       "    <tr>\n",
       "      <th>2</th>\n",
       "      <td>مبادرات مهمة يقوم بها بيت الشعر لصون الذاكرة ا...</td>\n",
       "      <td>1</td>\n",
       "    </tr>\n",
       "    <tr>\n",
       "      <th>3</th>\n",
       "      <td>شكرا لمكتب بيت الشعر في المغرب وعلى رأسه الشاع...</td>\n",
       "      <td>1</td>\n",
       "    </tr>\n",
       "    <tr>\n",
       "      <th>4</th>\n",
       "      <td>كل من عليها فان ويبقى وجه ربك ذو الجلال والإكر...</td>\n",
       "      <td>1</td>\n",
       "    </tr>\n",
       "  </tbody>\n",
       "</table>\n",
       "</div>"
      ],
      "text/plain": [
       "                                             comment  score\n",
       "0  علينا الاهتمام ببيت الابحاث العلمية و المختبرا...     -1\n",
       "1  بيت الشعر في المغرب يحظى بالتقدير داخل وخارج أ...      1\n",
       "2  مبادرات مهمة يقوم بها بيت الشعر لصون الذاكرة ا...      1\n",
       "3  شكرا لمكتب بيت الشعر في المغرب وعلى رأسه الشاع...      1\n",
       "4  كل من عليها فان ويبقى وجه ربك ذو الجلال والإكر...      1"
      ]
     },
     "execution_count": 18,
     "metadata": {},
     "output_type": "execute_result"
    }
   ],
   "source": [
    "df_well_dist.head()"
   ]
  },
  {
   "cell_type": "code",
   "execution_count": 19,
   "id": "50f6ad2d",
   "metadata": {},
   "outputs": [
    {
     "data": {
      "text/plain": [
       "(10568, 2)"
      ]
     },
     "execution_count": 19,
     "metadata": {},
     "output_type": "execute_result"
    }
   ],
   "source": [
    "df_well_dist.shape"
   ]
  },
  {
   "cell_type": "code",
   "execution_count": 20,
   "id": "d709b998",
   "metadata": {},
   "outputs": [
    {
     "data": {
      "text/plain": [
       "{1: 8388, -1: 1555, 0: 625}"
      ]
     },
     "execution_count": 20,
     "metadata": {},
     "output_type": "execute_result"
    }
   ],
   "source": [
    "dict(df_well_dist.score.value_counts())"
   ]
  },
  {
   "cell_type": "code",
   "execution_count": 21,
   "id": "ab24726e",
   "metadata": {},
   "outputs": [],
   "source": [
    "from langdetect import detect\n",
    "\n",
    "# removing the non arabic tweets from the dataset\n",
    "def data_clean(df, text_col):\n",
    "    non_arabic = 0\n",
    "    for i, row in df.iterrows():\n",
    "        if detect(row[text_col]) != \"ar\":\n",
    "            df.drop(i, inplace = True)"
   ]
  },
  {
   "cell_type": "code",
   "execution_count": 22,
   "id": "87817cbf",
   "metadata": {},
   "outputs": [
    {
     "name": "stderr",
     "output_type": "stream",
     "text": [
      "D:\\Programs\\Anaconda2\\lib\\site-packages\\pandas\\core\\frame.py:4913: SettingWithCopyWarning: \n",
      "A value is trying to be set on a copy of a slice from a DataFrame\n",
      "\n",
      "See the caveats in the documentation: https://pandas.pydata.org/pandas-docs/stable/user_guide/indexing.html#returning-a-view-versus-a-copy\n",
      "  errors=errors,\n"
     ]
    }
   ],
   "source": [
    "data_clean(df_well_dist, \"comment\")"
   ]
  },
  {
   "cell_type": "code",
   "execution_count": 23,
   "id": "089e1d6f",
   "metadata": {},
   "outputs": [
    {
     "data": {
      "text/plain": [
       "{1: 8043, -1: 1457, 0: 592}"
      ]
     },
     "execution_count": 23,
     "metadata": {},
     "output_type": "execute_result"
    }
   ],
   "source": [
    "dict(df_well_dist.score.value_counts())"
   ]
  },
  {
   "cell_type": "code",
   "execution_count": 24,
   "id": "5a8fd1eb",
   "metadata": {},
   "outputs": [],
   "source": [
    "# to get the minimum class values to make it the normal size for the rest of class\n",
    "normal_size = dict(df_well_dist.score.value_counts())[min(dict(df_well_dist.score.value_counts()),\n",
    "                                                          key=dict(df_well_dist.score.value_counts()).get)]"
   ]
  },
  {
   "cell_type": "code",
   "execution_count": 25,
   "id": "4f8134bb",
   "metadata": {},
   "outputs": [
    {
     "data": {
      "text/plain": [
       "592"
      ]
     },
     "execution_count": 25,
     "metadata": {},
     "output_type": "execute_result"
    }
   ],
   "source": [
    "normal_size"
   ]
  },
  {
   "cell_type": "code",
   "execution_count": 26,
   "id": "d07d2eb2",
   "metadata": {},
   "outputs": [
    {
     "data": {
      "text/html": [
       "<div>\n",
       "<style scoped>\n",
       "    .dataframe tbody tr th:only-of-type {\n",
       "        vertical-align: middle;\n",
       "    }\n",
       "\n",
       "    .dataframe tbody tr th {\n",
       "        vertical-align: top;\n",
       "    }\n",
       "\n",
       "    .dataframe thead th {\n",
       "        text-align: right;\n",
       "    }\n",
       "</style>\n",
       "<table border=\"1\" class=\"dataframe\">\n",
       "  <thead>\n",
       "    <tr style=\"text-align: right;\">\n",
       "      <th></th>\n",
       "      <th>comment</th>\n",
       "      <th>score</th>\n",
       "    </tr>\n",
       "  </thead>\n",
       "  <tbody>\n",
       "    <tr>\n",
       "      <th>8552</th>\n",
       "      <td>اذن جميع ساحات المغرب ستصبح مثل جامع الفنا. لا...</td>\n",
       "      <td>1</td>\n",
       "    </tr>\n",
       "    <tr>\n",
       "      <th>5263</th>\n",
       "      <td>ليس اشكالية ان نرى نجوم الغناء في افلام او مسل...</td>\n",
       "      <td>1</td>\n",
       "    </tr>\n",
       "    <tr>\n",
       "      <th>8011</th>\n",
       "      <td>هنيئا لك ! لقد وجدت من يتكلف بطبع هذا الكتاب و...</td>\n",
       "      <td>-1</td>\n",
       "    </tr>\n",
       "    <tr>\n",
       "      <th>9122</th>\n",
       "      <td>كل يعمل على شاكلته فنحن نحتاج إلى رحمة الله وا...</td>\n",
       "      <td>1</td>\n",
       "    </tr>\n",
       "    <tr>\n",
       "      <th>6492</th>\n",
       "      <td>الناس تبحث عن طريقة للنجاة بارواحم من هدا الوب...</td>\n",
       "      <td>1</td>\n",
       "    </tr>\n",
       "  </tbody>\n",
       "</table>\n",
       "</div>"
      ],
      "text/plain": [
       "                                                comment  score\n",
       "8552  اذن جميع ساحات المغرب ستصبح مثل جامع الفنا. لا...      1\n",
       "5263  ليس اشكالية ان نرى نجوم الغناء في افلام او مسل...      1\n",
       "8011  هنيئا لك ! لقد وجدت من يتكلف بطبع هذا الكتاب و...     -1\n",
       "9122  كل يعمل على شاكلته فنحن نحتاج إلى رحمة الله وا...      1\n",
       "6492  الناس تبحث عن طريقة للنجاة بارواحم من هدا الوب...      1"
      ]
     },
     "execution_count": 26,
     "metadata": {},
     "output_type": "execute_result"
    }
   ],
   "source": [
    "df_well_dist.sample(5)"
   ]
  },
  {
   "cell_type": "code",
   "execution_count": 27,
   "id": "5e7866f0",
   "metadata": {},
   "outputs": [],
   "source": [
    "# to get equal data sizes for the three classes\n",
    "def data_distribution(df, compare_col, label, size):\n",
    "    df_sample = df[df[compare_col] == label].sample(size).sample(frac = 1)\n",
    "    print(df_sample.shape)\n",
    "    return df_sample"
   ]
  },
  {
   "cell_type": "code",
   "execution_count": 28,
   "id": "4325ed97",
   "metadata": {},
   "outputs": [
    {
     "name": "stdout",
     "output_type": "stream",
     "text": [
      "(592, 2)\n"
     ]
    }
   ],
   "source": [
    "df_positive_sample = data_distribution(df_well_dist, \"score\", 1, normal_size)"
   ]
  },
  {
   "cell_type": "code",
   "execution_count": 29,
   "id": "2e742ea2",
   "metadata": {},
   "outputs": [
    {
     "data": {
      "text/html": [
       "<div>\n",
       "<style scoped>\n",
       "    .dataframe tbody tr th:only-of-type {\n",
       "        vertical-align: middle;\n",
       "    }\n",
       "\n",
       "    .dataframe tbody tr th {\n",
       "        vertical-align: top;\n",
       "    }\n",
       "\n",
       "    .dataframe thead th {\n",
       "        text-align: right;\n",
       "    }\n",
       "</style>\n",
       "<table border=\"1\" class=\"dataframe\">\n",
       "  <thead>\n",
       "    <tr style=\"text-align: right;\">\n",
       "      <th></th>\n",
       "      <th>comment</th>\n",
       "      <th>score</th>\n",
       "    </tr>\n",
       "  </thead>\n",
       "  <tbody>\n",
       "    <tr>\n",
       "      <th>10457</th>\n",
       "      <td>حتى البنايات قبل 80 سنة آجمل منها حاليا\\nأصبح ...</td>\n",
       "      <td>1</td>\n",
       "    </tr>\n",
       "    <tr>\n",
       "      <th>1089</th>\n",
       "      <td>هل تم تسوية الخلاف مع ورثة المرحوم العربي المس...</td>\n",
       "      <td>1</td>\n",
       "    </tr>\n",
       "    <tr>\n",
       "      <th>2495</th>\n",
       "      <td>فقط كلمة ادا سمح لنا المنبر شكرا من حق المحب ل...</td>\n",
       "      <td>1</td>\n",
       "    </tr>\n",
       "    <tr>\n",
       "      <th>1927</th>\n",
       "      <td>إنا لله وإنا إليه راجعون اللهم ارحمها واغفر لن...</td>\n",
       "      <td>1</td>\n",
       "    </tr>\n",
       "    <tr>\n",
       "      <th>6784</th>\n",
       "      <td>بعض الفنانين يقومون ببيع التفاهة والإبتدال للش...</td>\n",
       "      <td>1</td>\n",
       "    </tr>\n",
       "  </tbody>\n",
       "</table>\n",
       "</div>"
      ],
      "text/plain": [
       "                                                 comment  score\n",
       "10457  حتى البنايات قبل 80 سنة آجمل منها حاليا\\nأصبح ...      1\n",
       "1089   هل تم تسوية الخلاف مع ورثة المرحوم العربي المس...      1\n",
       "2495   فقط كلمة ادا سمح لنا المنبر شكرا من حق المحب ل...      1\n",
       "1927   إنا لله وإنا إليه راجعون اللهم ارحمها واغفر لن...      1\n",
       "6784   بعض الفنانين يقومون ببيع التفاهة والإبتدال للش...      1"
      ]
     },
     "execution_count": 29,
     "metadata": {},
     "output_type": "execute_result"
    }
   ],
   "source": [
    "df_positive_sample.head()"
   ]
  },
  {
   "cell_type": "code",
   "execution_count": 30,
   "id": "34993431",
   "metadata": {},
   "outputs": [
    {
     "name": "stdout",
     "output_type": "stream",
     "text": [
      "(592, 2)\n"
     ]
    }
   ],
   "source": [
    "df_negative_sample = data_distribution(df_well_dist, \"score\", -1, normal_size)"
   ]
  },
  {
   "cell_type": "code",
   "execution_count": 31,
   "id": "0c0ffbd9",
   "metadata": {},
   "outputs": [
    {
     "data": {
      "text/html": [
       "<div>\n",
       "<style scoped>\n",
       "    .dataframe tbody tr th:only-of-type {\n",
       "        vertical-align: middle;\n",
       "    }\n",
       "\n",
       "    .dataframe tbody tr th {\n",
       "        vertical-align: top;\n",
       "    }\n",
       "\n",
       "    .dataframe thead th {\n",
       "        text-align: right;\n",
       "    }\n",
       "</style>\n",
       "<table border=\"1\" class=\"dataframe\">\n",
       "  <thead>\n",
       "    <tr style=\"text-align: right;\">\n",
       "      <th></th>\n",
       "      <th>comment</th>\n",
       "      <th>score</th>\n",
       "    </tr>\n",
       "  </thead>\n",
       "  <tbody>\n",
       "    <tr>\n",
       "      <th>6841</th>\n",
       "      <td>والسي حسن سير الله يخليك لشي عروبية وصور لينا ...</td>\n",
       "      <td>-1</td>\n",
       "    </tr>\n",
       "    <tr>\n",
       "      <th>9147</th>\n",
       "      <td>الأرض للجميع والحدود صنعها البشر رحمة الله عليه</td>\n",
       "      <td>-1</td>\n",
       "    </tr>\n",
       "    <tr>\n",
       "      <th>8236</th>\n",
       "      <td>كيف لمن غادر الدراسة في مستوى ال 7ة اي ال2 إعد...</td>\n",
       "      <td>-1</td>\n",
       "    </tr>\n",
       "    <tr>\n",
       "      <th>7022</th>\n",
       "      <td>ما راي ذ ن.لحلو لو يغير كلمة الدنيا خداعة بالد...</td>\n",
       "      <td>-1</td>\n",
       "    </tr>\n",
       "    <tr>\n",
       "      <th>9004</th>\n",
       "      <td>صراحة ، المستوى ( عيان بزاف ) والكلمات ضعيفة و...</td>\n",
       "      <td>-1</td>\n",
       "    </tr>\n",
       "  </tbody>\n",
       "</table>\n",
       "</div>"
      ],
      "text/plain": [
       "                                                comment  score\n",
       "6841  والسي حسن سير الله يخليك لشي عروبية وصور لينا ...     -1\n",
       "9147    الأرض للجميع والحدود صنعها البشر رحمة الله عليه     -1\n",
       "8236  كيف لمن غادر الدراسة في مستوى ال 7ة اي ال2 إعد...     -1\n",
       "7022  ما راي ذ ن.لحلو لو يغير كلمة الدنيا خداعة بالد...     -1\n",
       "9004  صراحة ، المستوى ( عيان بزاف ) والكلمات ضعيفة و...     -1"
      ]
     },
     "execution_count": 31,
     "metadata": {},
     "output_type": "execute_result"
    }
   ],
   "source": [
    "df_negative_sample.head()"
   ]
  },
  {
   "cell_type": "code",
   "execution_count": 32,
   "id": "43580074",
   "metadata": {},
   "outputs": [
    {
     "name": "stdout",
     "output_type": "stream",
     "text": [
      "(592, 2)\n"
     ]
    }
   ],
   "source": [
    "df_neutral_sample = data_distribution(df_well_dist, \"score\", 0, normal_size)"
   ]
  },
  {
   "cell_type": "code",
   "execution_count": 33,
   "id": "448f92ba",
   "metadata": {},
   "outputs": [
    {
     "data": {
      "text/html": [
       "<div>\n",
       "<style scoped>\n",
       "    .dataframe tbody tr th:only-of-type {\n",
       "        vertical-align: middle;\n",
       "    }\n",
       "\n",
       "    .dataframe tbody tr th {\n",
       "        vertical-align: top;\n",
       "    }\n",
       "\n",
       "    .dataframe thead th {\n",
       "        text-align: right;\n",
       "    }\n",
       "</style>\n",
       "<table border=\"1\" class=\"dataframe\">\n",
       "  <thead>\n",
       "    <tr style=\"text-align: right;\">\n",
       "      <th></th>\n",
       "      <th>comment</th>\n",
       "      <th>score</th>\n",
       "    </tr>\n",
       "  </thead>\n",
       "  <tbody>\n",
       "    <tr>\n",
       "      <th>2899</th>\n",
       "      <td>اولا يجب القطع مع الماضي بكل أشكاله \\nوالبداية...</td>\n",
       "      <td>0</td>\n",
       "    </tr>\n",
       "    <tr>\n",
       "      <th>6402</th>\n",
       "      <td>نريد لوطننا فنا نظيفا وغناء ملتزما بعيدا عن ال...</td>\n",
       "      <td>0</td>\n",
       "    </tr>\n",
       "    <tr>\n",
       "      <th>5517</th>\n",
       "      <td>الله يخليكم لي ماعجباتوش شي برنامج بلا مايتفرج...</td>\n",
       "      <td>0</td>\n",
       "    </tr>\n",
       "    <tr>\n",
       "      <th>8749</th>\n",
       "      <td>مرحبا بسوسيولوجيا التغير والابتكار بمعرض الكتا...</td>\n",
       "      <td>0</td>\n",
       "    </tr>\n",
       "    <tr>\n",
       "      <th>4266</th>\n",
       "      <td>مقال غني سردا\\nرحمة الله على الاستاد طه حسين. ...</td>\n",
       "      <td>0</td>\n",
       "    </tr>\n",
       "  </tbody>\n",
       "</table>\n",
       "</div>"
      ],
      "text/plain": [
       "                                                comment  score\n",
       "2899  اولا يجب القطع مع الماضي بكل أشكاله \\nوالبداية...      0\n",
       "6402  نريد لوطننا فنا نظيفا وغناء ملتزما بعيدا عن ال...      0\n",
       "5517  الله يخليكم لي ماعجباتوش شي برنامج بلا مايتفرج...      0\n",
       "8749  مرحبا بسوسيولوجيا التغير والابتكار بمعرض الكتا...      0\n",
       "4266  مقال غني سردا\\nرحمة الله على الاستاد طه حسين. ...      0"
      ]
     },
     "execution_count": 33,
     "metadata": {},
     "output_type": "execute_result"
    }
   ],
   "source": [
    "df_neutral_sample.head()"
   ]
  },
  {
   "cell_type": "code",
   "execution_count": 34,
   "id": "acbe063a",
   "metadata": {},
   "outputs": [],
   "source": [
    "# splitting the dataset to tarin and test (80% :20%)\n",
    "def df_train_test_split(df, size):\n",
    "    df_train = df.iloc[:int(size * .8)]\n",
    "    print(f\"shape of the training df: {df_train.shape}\")\n",
    "    df_test = df.iloc[int(size * .8):]\n",
    "    print(f\"shape of the testing df: {df_test.shape}\")\n",
    "    return df_train, df_test"
   ]
  },
  {
   "cell_type": "code",
   "execution_count": 35,
   "id": "f640de59",
   "metadata": {},
   "outputs": [
    {
     "name": "stdout",
     "output_type": "stream",
     "text": [
      "shape of the training df: (473, 2)\n",
      "shape of the testing df: (119, 2)\n"
     ]
    }
   ],
   "source": [
    "df_pos_train, df_pos_test = df_train_test_split(df_positive_sample, normal_size)"
   ]
  },
  {
   "cell_type": "code",
   "execution_count": 36,
   "id": "a4515a1d",
   "metadata": {},
   "outputs": [
    {
     "name": "stdout",
     "output_type": "stream",
     "text": [
      "shape of the training df: (473, 2)\n",
      "shape of the testing df: (119, 2)\n"
     ]
    }
   ],
   "source": [
    "df_neg_train, df_neg_test = df_train_test_split(df_negative_sample, normal_size)"
   ]
  },
  {
   "cell_type": "code",
   "execution_count": 37,
   "id": "9c24382d",
   "metadata": {},
   "outputs": [
    {
     "name": "stdout",
     "output_type": "stream",
     "text": [
      "shape of the training df: (473, 2)\n",
      "shape of the testing df: (119, 2)\n"
     ]
    }
   ],
   "source": [
    "df_neutral_train, df_neutral_test = df_train_test_split(df_neutral_sample, normal_size)"
   ]
  },
  {
   "cell_type": "code",
   "execution_count": 38,
   "id": "2f4cf1a0",
   "metadata": {},
   "outputs": [],
   "source": [
    "# concatenating all the training dataframes and shuffles it\n",
    "df_well_dist_train = pd.concat([df_positive_sample, df_negative_sample, df_neutral_sample]).sample(frac = 1)"
   ]
  },
  {
   "cell_type": "code",
   "execution_count": 39,
   "id": "ca6e5d8b",
   "metadata": {},
   "outputs": [
    {
     "data": {
      "text/html": [
       "<div>\n",
       "<style scoped>\n",
       "    .dataframe tbody tr th:only-of-type {\n",
       "        vertical-align: middle;\n",
       "    }\n",
       "\n",
       "    .dataframe tbody tr th {\n",
       "        vertical-align: top;\n",
       "    }\n",
       "\n",
       "    .dataframe thead th {\n",
       "        text-align: right;\n",
       "    }\n",
       "</style>\n",
       "<table border=\"1\" class=\"dataframe\">\n",
       "  <thead>\n",
       "    <tr style=\"text-align: right;\">\n",
       "      <th></th>\n",
       "      <th>comment</th>\n",
       "      <th>score</th>\n",
       "    </tr>\n",
       "  </thead>\n",
       "  <tbody>\n",
       "    <tr>\n",
       "      <th>4094</th>\n",
       "      <td>تبرك الله عليه عمل فالمستوى وكعبر على عمال الن...</td>\n",
       "      <td>0</td>\n",
       "    </tr>\n",
       "    <tr>\n",
       "      <th>10378</th>\n",
       "      <td>الشعب المغربي سبق جميع الشعوب العربية في جميع ...</td>\n",
       "      <td>-1</td>\n",
       "    </tr>\n",
       "    <tr>\n",
       "      <th>3555</th>\n",
       "      <td>مند بداية ازمة والكاتب يتتبع ويراقب هدا هو حال...</td>\n",
       "      <td>0</td>\n",
       "    </tr>\n",
       "    <tr>\n",
       "      <th>3735</th>\n",
       "      <td>نطلب من الدولة المغربية أن تعطي قيمة لجنسيتها ...</td>\n",
       "      <td>-1</td>\n",
       "    </tr>\n",
       "    <tr>\n",
       "      <th>3385</th>\n",
       "      <td>إنا لله وإنا إليه راجعون، اللهم إغفر له و أسكن...</td>\n",
       "      <td>0</td>\n",
       "    </tr>\n",
       "  </tbody>\n",
       "</table>\n",
       "</div>"
      ],
      "text/plain": [
       "                                                 comment  score\n",
       "4094   تبرك الله عليه عمل فالمستوى وكعبر على عمال الن...      0\n",
       "10378  الشعب المغربي سبق جميع الشعوب العربية في جميع ...     -1\n",
       "3555   مند بداية ازمة والكاتب يتتبع ويراقب هدا هو حال...      0\n",
       "3735   نطلب من الدولة المغربية أن تعطي قيمة لجنسيتها ...     -1\n",
       "3385   إنا لله وإنا إليه راجعون، اللهم إغفر له و أسكن...      0"
      ]
     },
     "execution_count": 39,
     "metadata": {},
     "output_type": "execute_result"
    }
   ],
   "source": [
    "df_well_dist_train.head()"
   ]
  },
  {
   "cell_type": "code",
   "execution_count": 40,
   "id": "d0e8f8cf",
   "metadata": {},
   "outputs": [
    {
     "data": {
      "text/plain": [
       "{0: 592, -1: 592, 1: 592}"
      ]
     },
     "execution_count": 40,
     "metadata": {},
     "output_type": "execute_result"
    }
   ],
   "source": [
    "dict(df_well_dist_train.score.value_counts())"
   ]
  },
  {
   "cell_type": "code",
   "execution_count": 41,
   "id": "c4684a55",
   "metadata": {},
   "outputs": [
    {
     "data": {
      "text/plain": [
       "(1776, 2)"
      ]
     },
     "execution_count": 41,
     "metadata": {},
     "output_type": "execute_result"
    }
   ],
   "source": [
    "df_well_dist_train.shape"
   ]
  },
  {
   "cell_type": "code",
   "execution_count": 42,
   "id": "26967cf4",
   "metadata": {},
   "outputs": [
    {
     "data": {
      "text/plain": [
       "{1: 8043, -1: 1457, 0: 592}"
      ]
     },
     "execution_count": 42,
     "metadata": {},
     "output_type": "execute_result"
    }
   ],
   "source": [
    "dict(df_well_dist.score.value_counts())   # df_well_dist_train"
   ]
  },
  {
   "cell_type": "code",
   "execution_count": 43,
   "id": "4b029d24",
   "metadata": {},
   "outputs": [],
   "source": [
    "from sklearn.model_selection import train_test_split\n",
    "\n",
    "X_train, X_test, y_train, y_test = train_test_split(df_well_dist[\"comment\"], df_well_dist[\"score\"]\n",
    "                                                    , random_state = 42, test_size = .2) # df_well_dist"
   ]
  },
  {
   "cell_type": "code",
   "execution_count": 44,
   "id": "4812e0e2",
   "metadata": {},
   "outputs": [
    {
     "data": {
      "text/plain": [
       "(8073,)"
      ]
     },
     "execution_count": 44,
     "metadata": {},
     "output_type": "execute_result"
    }
   ],
   "source": [
    "X_train.shape"
   ]
  },
  {
   "cell_type": "code",
   "execution_count": 45,
   "id": "57448200",
   "metadata": {},
   "outputs": [
    {
     "data": {
      "text/plain": [
       "3691    هادشي اللي كان ناقص للمغاربة كلشي داروه\\nعلمون...\n",
       "Name: comment, dtype: object"
      ]
     },
     "execution_count": 45,
     "metadata": {},
     "output_type": "execute_result"
    }
   ],
   "source": [
    "X_train.sample()"
   ]
  },
  {
   "cell_type": "code",
   "execution_count": 46,
   "id": "ab3da3ec",
   "metadata": {},
   "outputs": [
    {
     "data": {
      "text/plain": [
       "pandas.core.series.Series"
      ]
     },
     "execution_count": 46,
     "metadata": {},
     "output_type": "execute_result"
    }
   ],
   "source": [
    "type(X_train)"
   ]
  },
  {
   "cell_type": "code",
   "execution_count": 47,
   "id": "91dad634",
   "metadata": {},
   "outputs": [
    {
     "data": {
      "text/plain": [
       "(8073,)"
      ]
     },
     "execution_count": 47,
     "metadata": {},
     "output_type": "execute_result"
    }
   ],
   "source": [
    "y_train.shape"
   ]
  },
  {
   "cell_type": "code",
   "execution_count": 48,
   "id": "7bb704b1",
   "metadata": {},
   "outputs": [
    {
     "data": {
      "text/plain": [
       "1238     الله يرحموا و يوسع عليه هو والسي عبد الهادي تو...\n",
       "8396     من سرق الكتاب. سرقه ليس لقراءته ...\\n\\nبل لبيع...\n",
       "10152    كل نفس ضايقة الموت مشا شعبولة بمآسيه وافراحة ه...\n",
       "7688     مشيا بلى رجعا للموازين إنشاء الله يخفون الفيرو...\n",
       "8898     إقتباس الأعمال الفنية من التاريخ يتطلب دراية أ...\n",
       "Name: comment, dtype: object"
      ]
     },
     "execution_count": 48,
     "metadata": {},
     "output_type": "execute_result"
    }
   ],
   "source": [
    "X_train.head()"
   ]
  },
  {
   "cell_type": "code",
   "execution_count": 49,
   "id": "48b83e59",
   "metadata": {
    "scrolled": true
   },
   "outputs": [],
   "source": [
    "# from nltk.corpus import stopwords\n",
    "# stopwords_list = stopwords.words('arabic')\n",
    "# print(stopwords_list)"
   ]
  },
  {
   "cell_type": "code",
   "execution_count": 70,
   "id": "57d81772",
   "metadata": {},
   "outputs": [],
   "source": [
    "from sklearn.feature_extraction.text import CountVectorizer\n",
    "\n",
    "# min_df: removes any words from the vocabulary that appears in less than 7 documents\n",
    "# ngram_range = (1, 2): CountVectorizer will create features using (4) words as well as using bentagrams (2)\n",
    "vect = CountVectorizer(min_df = 7, ngram_range = (3, 5)).fit(X_train) # , stop_words = stopwords_list"
   ]
  },
  {
   "cell_type": "code",
   "execution_count": 71,
   "id": "11cbf3a9",
   "metadata": {},
   "outputs": [
    {
     "data": {
      "text/plain": [
       "738"
      ]
     },
     "execution_count": 71,
     "metadata": {},
     "output_type": "execute_result"
    }
   ],
   "source": [
    "len(vect.get_feature_names_out())"
   ]
  },
  {
   "cell_type": "code",
   "execution_count": 72,
   "id": "faa4c7c6",
   "metadata": {},
   "outputs": [],
   "source": [
    "X_train_vectorized = vect.transform(X_train)"
   ]
  },
  {
   "cell_type": "code",
   "execution_count": 73,
   "id": "9281bdb9",
   "metadata": {},
   "outputs": [
    {
     "data": {
      "text/plain": [
       "(8073, 738)"
      ]
     },
     "execution_count": 73,
     "metadata": {},
     "output_type": "execute_result"
    }
   ],
   "source": [
    "X_train_vectorized.shape"
   ]
  },
  {
   "cell_type": "code",
   "execution_count": 74,
   "id": "3e4f0d86",
   "metadata": {},
   "outputs": [
    {
     "name": "stderr",
     "output_type": "stream",
     "text": [
      "D:\\Programs\\Anaconda2\\lib\\site-packages\\sklearn\\linear_model\\_logistic.py:818: ConvergenceWarning: lbfgs failed to converge (status=1):\n",
      "STOP: TOTAL NO. of ITERATIONS REACHED LIMIT.\n",
      "\n",
      "Increase the number of iterations (max_iter) or scale the data as shown in:\n",
      "    https://scikit-learn.org/stable/modules/preprocessing.html\n",
      "Please also refer to the documentation for alternative solver options:\n",
      "    https://scikit-learn.org/stable/modules/linear_model.html#logistic-regression\n",
      "  extra_warning_msg=_LOGISTIC_SOLVER_CONVERGENCE_MSG,\n"
     ]
    },
    {
     "data": {
      "text/plain": [
       "LogisticRegression()"
      ]
     },
     "execution_count": 74,
     "metadata": {},
     "output_type": "execute_result"
    }
   ],
   "source": [
    "from sklearn.linear_model import LogisticRegression\n",
    "\n",
    "model = LogisticRegression() # max_iter = 1000\n",
    "model.fit(X_train_vectorized, y_train)"
   ]
  },
  {
   "cell_type": "code",
   "execution_count": 75,
   "id": "5efe489c",
   "metadata": {},
   "outputs": [
    {
     "name": "stdout",
     "output_type": "stream",
     "text": [
      "AUC score is: 0.56\n"
     ]
    }
   ],
   "source": [
    "# transform the testing data using the fitted vectorizer\n",
    "X_test_vectorized = vect.transform(X_test)\n",
    "\n",
    "# make predictions on the testing data\n",
    "pred_proba = model.predict_proba(X_test_vectorized)\n",
    "\n",
    "# calculate the AUC score\n",
    "from sklearn.metrics import roc_auc_score\n",
    "auc_score = roc_auc_score(y_test, pred_proba, multi_class='ovr')\n",
    "print(f\"AUC score is: {auc_score:.2f}\")"
   ]
  },
  {
   "cell_type": "code",
   "execution_count": 76,
   "id": "1ac448b8",
   "metadata": {},
   "outputs": [
    {
     "data": {
      "text/plain": [
       "array([[0.16012895, 0.0582449 , 0.78162615],\n",
       "       [0.16012895, 0.0582449 , 0.78162615],\n",
       "       [0.13562577, 0.07707439, 0.78729985],\n",
       "       ...,\n",
       "       [0.0710093 , 0.02846282, 0.90052788],\n",
       "       [0.15744797, 0.03397463, 0.80857741],\n",
       "       [0.16012895, 0.0582449 , 0.78162615]])"
      ]
     },
     "execution_count": 76,
     "metadata": {},
     "output_type": "execute_result"
    }
   ],
   "source": [
    "pred_proba"
   ]
  },
  {
   "cell_type": "code",
   "execution_count": 77,
   "id": "4a99fc7d",
   "metadata": {},
   "outputs": [
    {
     "data": {
      "text/plain": [
       "2"
      ]
     },
     "execution_count": 77,
     "metadata": {},
     "output_type": "execute_result"
    }
   ],
   "source": [
    "pred_proba.ndim"
   ]
  },
  {
   "cell_type": "code",
   "execution_count": 78,
   "id": "f67870b9",
   "metadata": {},
   "outputs": [
    {
     "data": {
      "text/plain": [
       "(2019, 3)"
      ]
     },
     "execution_count": 78,
     "metadata": {},
     "output_type": "execute_result"
    }
   ],
   "source": [
    "pred_proba.shape"
   ]
  },
  {
   "cell_type": "code",
   "execution_count": 79,
   "id": "50f30e3b",
   "metadata": {},
   "outputs": [],
   "source": [
    "pred = model.predict(vect.transform(X_test))"
   ]
  },
  {
   "cell_type": "code",
   "execution_count": 89,
   "id": "178b76a6",
   "metadata": {},
   "outputs": [
    {
     "data": {
      "text/plain": [
       "array([1], dtype=int64)"
      ]
     },
     "execution_count": 89,
     "metadata": {},
     "output_type": "execute_result"
    }
   ],
   "source": [
    "model.predict(vect.transform([\"دعنا من الترفيه ولننفق علي العلوم من أجل رفعة بلداننا\"]))"
   ]
  },
  {
   "cell_type": "code",
   "execution_count": 99,
   "id": "93b3541c",
   "metadata": {},
   "outputs": [
    {
     "data": {
      "text/plain": [
       "9945    وكثير من دعاة الرقي بالذوق هم أول المتخلفين\\nت...\n",
       "Name: comment, dtype: object"
      ]
     },
     "execution_count": 99,
     "metadata": {},
     "output_type": "execute_result"
    }
   ],
   "source": [
    "df_neutral_sample.comment.sample()"
   ]
  },
  {
   "cell_type": "code",
   "execution_count": 146,
   "id": "76aa53e1",
   "metadata": {},
   "outputs": [
    {
     "data": {
      "text/plain": [
       "array([1], dtype=int64)"
      ]
     },
     "execution_count": 146,
     "metadata": {},
     "output_type": "execute_result"
    }
   ],
   "source": []
  },
  {
   "cell_type": "code",
   "execution_count": null,
   "id": "f4bfa169",
   "metadata": {},
   "outputs": [],
   "source": []
  },
  {
   "cell_type": "code",
   "execution_count": 60,
   "id": "15b60245",
   "metadata": {},
   "outputs": [
    {
     "name": "stdout",
     "output_type": "stream",
     "text": [
      "The number of training examples for class -1 = 1159\n",
      "The number of training examples for class 0 = 475\n",
      "The number of training examples for class 1 = 6439\n"
     ]
    }
   ],
   "source": [
    "for i in range(-1, 2):\n",
    "    print(f\"The number of training examples for class {i} = {len(y_train[y_train == i])}\")"
   ]
  },
  {
   "cell_type": "code",
   "execution_count": 61,
   "id": "eb0db978",
   "metadata": {},
   "outputs": [
    {
     "name": "stdout",
     "output_type": "stream",
     "text": [
      "The number of tesing examples for class -1 = 298\n",
      "The number of tesing examples for class 0 = 117\n",
      "The number of tesing examples for class 1 = 1604\n"
     ]
    }
   ],
   "source": [
    "for i in range(-1, 2):\n",
    "    print(f\"The number of tesing examples for class {i} = {len(y_test[y_test == i])}\")"
   ]
  },
  {
   "cell_type": "code",
   "execution_count": 62,
   "id": "cab17f7c",
   "metadata": {},
   "outputs": [],
   "source": [
    "from sklearn.metrics import precision_score, recall_score, f1_score, confusion_matrix# , classification_report, balanced_accuracy_score\n",
    "\n",
    "# calculating precision_score, recall_score, f1_score, accuracy_scoreon for each class\n",
    "cls_precision = precision_score(y_test, pred, average=None)\n",
    "cls_recall = recall_score(y_test, pred, average=None)\n",
    "cls_f1_score = f1_score(y_test, pred, average=None)\n",
    "cls_accuracy = confusion_matrix(y_test, pred, normalize=\"true\").diagonal()"
   ]
  },
  {
   "cell_type": "code",
   "execution_count": 63,
   "id": "effcce85",
   "metadata": {},
   "outputs": [
    {
     "data": {
      "text/plain": [
       "array([0.00671141, 0.05982906, 0.99563591])"
      ]
     },
     "execution_count": 63,
     "metadata": {},
     "output_type": "execute_result"
    }
   ],
   "source": [
    "cls_accuracy"
   ]
  },
  {
   "cell_type": "code",
   "execution_count": 64,
   "id": "b66f81ec",
   "metadata": {
    "scrolled": true
   },
   "outputs": [
    {
     "name": "stdout",
     "output_type": "stream",
     "text": [
      "for class(-1):\n",
      "---------------\n",
      "precision = 0.5\n",
      "recall = 0.006711409395973154\n",
      "f1_score = 0.013245033112582781\n",
      "accuracy = 0.006711409395973154\n",
      "\n",
      "\n",
      "for class(0):\n",
      "---------------\n",
      "precision = 0.5833333333333334\n",
      "recall = 0.05982905982905983\n",
      "f1_score = 0.10852713178294575\n",
      "accuracy = 0.05982905982905983\n",
      "\n",
      "\n",
      "for class(1):\n",
      "---------------\n",
      "precision = 0.7973040439340988\n",
      "recall = 0.9956359102244389\n",
      "f1_score = 0.8855004158580538\n",
      "accuracy = 0.9956359102244389\n",
      "\n",
      "\n"
     ]
    }
   ],
   "source": [
    "for i, cls in enumerate(model.classes_):\n",
    "    print(f\"for class({cls}):\\n{'-' * 15}\\nprecision = {cls_precision[i]}\\nrecall = {cls_recall[i]}\\nf1_score = {cls_f1_score[i]}\\naccuracy = {cls_accuracy[i]}\\n\\n\")"
   ]
  },
  {
   "cell_type": "markdown",
   "id": "0fa6ea01",
   "metadata": {},
   "source": [
    "##### As seen above, class (1, positive) which has the most of the tweets is the highest class in all the metrics, so it's clear that the accuracy here depends on the data size per class.\n",
    "##### In order to get better results for this problem we need to get more data for the less represented classes (0, neutral) and (-1, negative) to be able to fit the model with enough examples, also we need to keep in mind to balance the number of data for all the classes to avoid biased results (as what seems to be here)"
   ]
  },
  {
   "cell_type": "code",
   "execution_count": 65,
   "id": "7aaed85d",
   "metadata": {},
   "outputs": [],
   "source": [
    "from sklearn.metrics import precision_recall_fscore_support, accuracy_score\n",
    "\n",
    "# calculating precision_score, recall_score, f1_score, accuracy_scoreon for whole test set\n",
    "test_precision, test_recall, test_f1_score, support = precision_recall_fscore_support(y_test, pred, average=\"weighted\")\n",
    "test_accuracy = accuracy_score(y_test, pred)"
   ]
  },
  {
   "cell_type": "code",
   "execution_count": 66,
   "id": "b85a583b",
   "metadata": {},
   "outputs": [
    {
     "name": "stdout",
     "output_type": "stream",
     "text": [
      "The metrics for the whole test set:\n",
      "-----------------------------------\n",
      "precision = 0.7410231235613148\n",
      "recall = 0.7954432887568103\n",
      "f1_score = 0.7117322245282183\n",
      "accuracy = 0.7954432887568103\n",
      "\n",
      "\n"
     ]
    }
   ],
   "source": [
    "print(f\"The metrics for the whole test set:\\n{'-'*35}\")\n",
    "\n",
    "print(f\"precision = {test_precision}\\nrecall = {test_recall}\\nf1_score = {test_f1_score}\\naccuracy = {test_accuracy}\\n\\n\")"
   ]
  },
  {
   "cell_type": "code",
   "execution_count": 154,
   "id": "0230300a",
   "metadata": {},
   "outputs": [],
   "source": [
    "def user_input_test(model , vectorizer):\n",
    "    while (True):\n",
    "        sentiments = {1: \"positively\", 0: \"neutral\", -1: \"negatively\"}\n",
    "        tweet = input(\"Enter your tweet in arabic:\\n\")\n",
    "        if detect(tweet) != 'ar':\n",
    "            print(\"\\aplease use arabic language.\\n\")\n",
    "        else:\n",
    "            pred = model.predict(vectorizer.transform([tweet]))\n",
    "            print(f\"the tweet is {sentiments[pred[0]]}\")\n",
    "        restart = input(\"do you want to try again? (y/n): \")\n",
    "        if restart != 'y':\n",
    "            break"
   ]
  },
  {
   "cell_type": "code",
   "execution_count": 178,
   "id": "368bdff1",
   "metadata": {},
   "outputs": [
    {
     "data": {
      "text/plain": [
       "'بل قل انهم اكتشفوا الجانب الامازيغي فيهم وليس العربي لان الاصل فيهم هو الامازيغية .'"
      ]
     },
     "execution_count": 178,
     "metadata": {},
     "output_type": "execute_result"
    }
   ],
   "source": [
    "df_negative_sample.comment.sample().values[0]"
   ]
  },
  {
   "cell_type": "code",
   "execution_count": 182,
   "id": "003140da",
   "metadata": {},
   "outputs": [
    {
     "data": {
      "text/plain": [
       "'كل مالدية نشروه لاحولة ولا قوة إلا بالله اللهم صلى وسلم وبارك على سيدنا محمد وعلى آله وصحبه أجمعين'"
      ]
     },
     "execution_count": 182,
     "metadata": {},
     "output_type": "execute_result"
    }
   ],
   "source": [
    "df_positive_sample.comment.sample().values[0]"
   ]
  },
  {
   "cell_type": "code",
   "execution_count": 180,
   "id": "b3044672",
   "metadata": {},
   "outputs": [
    {
     "data": {
      "text/plain": [
       "'اشهد لهذا الرجل بالتواضع. التقيته في أماكن عامة بمحض الصدفة و أبان على تفتح على الناس. لا تكبر لا استهزاء. رجل غير متصنع. شهادة لله لا غير.'"
      ]
     },
     "execution_count": 180,
     "metadata": {},
     "output_type": "execute_result"
    }
   ],
   "source": [
    "df_neutral_sample.comment.sample().values[0]"
   ]
  },
  {
   "cell_type": "code",
   "execution_count": 184,
   "id": "c069a04d",
   "metadata": {},
   "outputs": [
    {
     "name": "stdout",
     "output_type": "stream",
     "text": [
      "Enter your tweet in arabic:\n",
      "بل قل انهم اكتشفوا الجانب الامازيغي فيهم وليس العربي لان الاصل فيهم هو الامازيغية\n",
      "the tweet is positively\n",
      "do you want to try again? (y/n): y\n",
      "Enter your tweet in arabic:\n",
      "كل مالدية نشروه لاحولة ولا قوة إلا بالله اللهم صلى وسلم وبارك على سيدنا محمد وعلى آله وصحبه أجمعين\n",
      "the tweet is positively\n",
      "do you want to try again? (y/n): y\n",
      "Enter your tweet in arabic:\n",
      "اشهد لهذا الرجل بالتواضع. التقيته في أماكن عامة بمحض الصدفة و أبان على تفتح على الناس. لا تكبر لا استهزاء. رجل غير متصنع. شهادة لله لا غير\n",
      "the tweet is positively\n",
      "do you want to try again? (y/n): n\n"
     ]
    }
   ],
   "source": [
    "user_input_test(model , vect)"
   ]
  },
  {
   "cell_type": "code",
   "execution_count": null,
   "id": "331a01ea",
   "metadata": {},
   "outputs": [],
   "source": []
  }
 ],
 "metadata": {
  "kernelspec": {
   "display_name": "Python 3 (ipykernel)",
   "language": "python",
   "name": "python3"
  },
  "language_info": {
   "codemirror_mode": {
    "name": "ipython",
    "version": 3
   },
   "file_extension": ".py",
   "mimetype": "text/x-python",
   "name": "python",
   "nbconvert_exporter": "python",
   "pygments_lexer": "ipython3",
   "version": "3.7.13"
  }
 },
 "nbformat": 4,
 "nbformat_minor": 5
}
